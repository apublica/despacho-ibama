{
 "cells": [
  {
   "cell_type": "code",
   "execution_count": 1,
   "metadata": {
    "id": "u0ul3l8hWfJT"
   },
   "outputs": [],
   "source": [
    "\n",
    "# Importando as bibliotecas necessárias\n",
    "import pandas as pd\n",
    "from urllib.request import urlopen #para lidar com os links\n",
    "import ssl #para lidar com o certificado de segurança\n",
    "ssl._create_default_https_context = ssl._create_unverified_context\n",
    "import requests\n",
    "import json"
   ]
  },
  {
   "cell_type": "code",
   "execution_count": 6,
   "metadata": {
    "colab": {
     "base_uri": "https://localhost:8080/"
    },
    "id": "pwQH7A_-XxF6",
    "outputId": "a68eb305-7b73-4bc0-bbf7-1fccdff36668"
   },
   "outputs": [
    {
     "name": "stderr",
     "output_type": "stream",
     "text": [
      "C:\\Users\\Remakker\\AppData\\Local\\Temp\\ipykernel_12032\\1924545367.py:1: FutureWarning: The error_bad_lines argument has been deprecated and will be removed in a future version. Use on_bad_lines in the future.\n",
      "\n",
      "\n",
      "  df=pd.read_csv(\"processos_madeira.csv\", sep=\";\", error_bad_lines=False)\n"
     ]
    },
    {
     "name": "stdout",
     "output_type": "stream",
     "text": [
      "https://minhareceita.org/09.241.350/0001-14\n",
      "https://minhareceita.org/19.416.371/0001-87\n",
      "https://minhareceita.org/05.677.217/0001-54\n",
      "https://minhareceita.org/05.307.247/0001-79\n",
      "https://minhareceita.org/07.731.758/0001-49\n",
      "https://minhareceita.org/05.142.853/0001-81\n",
      "https://minhareceita.org/05.142.853/0001-81\n",
      "https://minhareceita.org/04.136.239/0001-44\n",
      "https://minhareceita.org/10.937.742/0001-00\n",
      "https://minhareceita.org/13.517.253/0001-89\n",
      "https://minhareceita.org/83.763.623/0001-43\n",
      "https://minhareceita.org/08.223.317/0001-07\n",
      "https://minhareceita.org/61.288.940/0037-23\n",
      "https://minhareceita.org/08.905.855/0001-73\n",
      "https://minhareceita.org/00.375.972/0081-45\n",
      "https://minhareceita.org/00.375.972/0016-47\n",
      "https://minhareceita.org/35.710.565/0001-47\n",
      "https://minhareceita.org/08.312.069/0001-62\n",
      "https://minhareceita.org/10.667.366/0001-72\n",
      "https://minhareceita.org/04.655.749/0001-28\n",
      "https://minhareceita.org/07.192.576/0001-47\n",
      "https://minhareceita.org/31.474.018/0001-59\n",
      "https://minhareceita.org/15.058.563/0002-99\n",
      "https://minhareceita.org/13.736.865/0001-62\n",
      "https://minhareceita.org/06.346.425/0001-33\n",
      "https://minhareceita.org/09.372.499/0001-32\n",
      "https://minhareceita.org/07.220.542/0001-19\n",
      "https://minhareceita.org/04.645.726/0001-32\n",
      "https://minhareceita.org/20.229.835/0001-25\n",
      "https://minhareceita.org/06.253.461/0001-52\n",
      "https://minhareceita.org/11.290.192/0001-34\n",
      "https://minhareceita.org/08.668.317/0001-02\n",
      "https://minhareceita.org/20.773.040/0001-83\n",
      "https://minhareceita.org/05.049.080/0001-93\n",
      "https://minhareceita.org/00.865.829/0001-57\n",
      "https://minhareceita.org/07.671.347/0001-05\n",
      "https://minhareceita.org/63.603.625/0001-68\n",
      "https://minhareceita.org/07.533.946/0001-62\n",
      "https://minhareceita.org/06.351.674/0001-17\n",
      "https://minhareceita.org/33.931.510/0001-31\n",
      "https://minhareceita.org/08.784.387/0001-26\n",
      "https://minhareceita.org/03.124.463/0001-53\n",
      "https://minhareceita.org/27.167.477/0001-12\n",
      "https://minhareceita.org/10.110.989/0001-40\n",
      "https://minhareceita.org/06.332.541/0001-01\n",
      "https://minhareceita.org/11.472.006/0001-88\n",
      "https://minhareceita.org/10.867.755/0001-41\n",
      "https://minhareceita.org/12.072.200/0001-39\n",
      "https://minhareceita.org/04.330.304/0001-78\n",
      "https://minhareceita.org/69.557.304/0001-50\n",
      "https://minhareceita.org/78.296.696/0001-32\n",
      "https://minhareceita.org/53.233.409/0001-14\n",
      "https://minhareceita.org/53.233.409/0001-14\n",
      "https://minhareceita.org/06.248.349/0001-23\n",
      "https://minhareceita.org/01.480.299/0004-34\n",
      "https://minhareceita.org/08.775.729/0001-41\n",
      "https://minhareceita.org/09.626.030/0001-82\n",
      "https://minhareceita.org/09.359.296/0001-06\n",
      "https://minhareceita.org/05.310.563/0001-08\n",
      "https://minhareceita.org/35.820.448/0019-65\n",
      "https://minhareceita.org/02.472.634/0001-72\n",
      "https://minhareceita.org/17.743.707/0001-90\n",
      "https://minhareceita.org/03.792.188/0002-27\n",
      "https://minhareceita.org/08.818.689/0001-78\n",
      "https://minhareceita.org/01.862.571/0001-06\n",
      "https://minhareceita.org/27.768.505/0001-57\n",
      "https://minhareceita.org/16.482.746/0001-19\n"
     ]
    }
   ],
   "source": [
    "df=pd.read_csv(\"processos_madeira.csv\", sep=\";\", error_bad_lines=False)\n",
    "df.head()\n",
    "for i in df['API']:\n",
    "  print(i)"
   ]
  },
  {
   "cell_type": "code",
   "execution_count": 36,
   "metadata": {
    "colab": {
     "base_uri": "https://localhost:8080/"
    },
    "id": "UG3e_eQfZbgt",
    "outputId": "d656e111-70ac-4785-d5dd-45373697bcd4",
    "scrolled": false
   },
   "outputs": [
    {
     "name": "stdout",
     "output_type": "stream",
     "text": [
      "*  09241350000114 @ A L DOS SANTOS VAREJISTA @ Comércio varejista de madeira e artefatos @ [{'codigo': 4742300, 'descricao': 'Comércio varejista de material elétrico'}]\n",
      "*  19416371000187 @ TRANSPORTADORA ALVES & LIMA CACU LTDA @ Transporte rodoviário de carga, exceto produtos perigosos e mudanças, intermunicipal, interestadual e internacional @ [{'codigo': 0, 'descricao': ''}]\n",
      "*  05677217000154 @ ANTONIO LAUREANO DA SILVA @ Serrarias com desdobramento de madeira em bruto @ [{'codigo': 1610204, 'descricao': 'Serrarias sem desdobramento de madeira em bruto  -Resserragem'}, {'codigo': 4671100, 'descricao': 'Comércio atacadista de madeira e produtos derivados'}, {'codigo': 4744002, 'descricao': 'Comércio varejista de madeira e artefatos'}, {'codigo': 8299799, 'descricao': 'Outras atividades de serviços prestados principalmente às empresas não especificadas anteriormente'}]\n",
      "*  05307247000179 @ AUTO POSTO PORTO BELLO LTDA @ Comércio varejista de combustíveis para veículos automotores @ [{'codigo': 4732600, 'descricao': 'Comércio varejista de lubrificantes'}]\n",
      "*  07731758000149 @ BRAUSSIE AGROPECUARIA LTDA @ Cultivo de soja @ [{'codigo': 111302, 'descricao': 'Cultivo de milho'}, {'codigo': 112101, 'descricao': 'Cultivo de algodão herbáceo'}, {'codigo': 151201, 'descricao': 'Criação de bovinos para corte'}, {'codigo': 161003, 'descricao': 'Serviço de preparação de terreno, cultivo e colheita'}, {'codigo': 161001, 'descricao': 'Serviço de pulverização e controle de pragas agrícolas'}, {'codigo': 142300, 'descricao': 'Produção de mudas e outras formas de propagação vegetal, certificadas'}, {'codigo': 161099, 'descricao': 'Atividades de apoio à agricultura não especificadas anteriormente'}]\n",
      "*  05142853000181 @ C. V. BERTI @ Serrarias com desdobramento de madeira em bruto @ [{'codigo': 0, 'descricao': ''}]\n",
      "*  05142853000181 @ C. V. BERTI @ Serrarias com desdobramento de madeira em bruto @ [{'codigo': 0, 'descricao': ''}]\n",
      "*  04136239000144 @ CICON CONSTRUTORA E INCORPORADORA LTDA @ Incorporação de empreendimentos imobiliários @ [{'codigo': 4120400, 'descricao': 'Construção de edifícios'}, {'codigo': 6810201, 'descricao': 'Compra e venda de imóveis próprios'}, {'codigo': 6810202, 'descricao': 'Aluguel de imóveis próprios'}]\n",
      "*  10937742000100 @ COMERCIAL FONTAO LTDA @ Comércio varejista de gás liqüefeito de petróleo (GLP) @ [{'codigo': 4723700, 'descricao': 'Comércio varejista de bebidas'}, {'codigo': 4729699, 'descricao': 'Comércio varejista de produtos alimentícios em geral ou especializado em produtos alimentícios não especificados anteriormente'}]\n",
      "*  13517253000189 @ CRISTALE GRANITOS LTDA @ Comércio atacadista de mármores e granitos @ [{'codigo': 2391503, 'descricao': 'Aparelhamento de placas e execução de trabalhos em mármore, granito, ardósia e outras pedras'}]\n",
      "*  83763623000143 @ F C CAUHY IMPORTACAO E EXPORTACAO DE ANIMAIS VIVOS EIRELI @ Atividades de apoio à aqüicultura em água doce @ [{'codigo': 4623101, 'descricao': 'Comércio atacadista de animais vivos'}, {'codigo': 4623109, 'descricao': 'Comércio atacadista de alimentos para animais'}, {'codigo': 4649499, 'descricao': 'Comércio atacadista de outros equipamentos e artigos de uso pessoal e doméstico não especificados anteriormente'}, {'codigo': 4763604, 'descricao': 'Comércio varejista de artigos de caça, pesca e camping'}, {'codigo': 4789004, 'descricao': 'Comércio varejista de animais vivos e de artigos e alimentos para animais de estimação'}]\n",
      "*  08223317000107 @ FABRICACAO DE MOVEIS E SERVICOS JS LTDA @ Fabricação de móveis com predominância de madeira @ [{'codigo': 3329501, 'descricao': 'Serviços de montagem de móveis de qualquer material'}]\n",
      "*  61288940003723 @ GAFOR S.A. @ Transporte rodoviário de produtos perigosos @ [{'codigo': 4930202, 'descricao': 'Transporte rodoviário de carga, exceto produtos perigosos e mudanças, intermunicipal, interestadual e internacional'}]\n",
      "*  08905855000173 @ INDUSTRIA E COMERCIO DE MADEIRAS ARARAS IMP. E EXP. LTDA @ Serrarias com desdobramento de madeira em bruto @ [{'codigo': 4671100, 'descricao': 'Comércio atacadista de madeira e produtos derivados'}]\n",
      "*  00375972008145 @ INSTITUTO NACIONAL DE COLONIZACAO E REFORMA AGRARIA @ Administração pública em geral @ [{'codigo': 0, 'descricao': ''}]\n",
      "*  00375972001647 @ INSTITUTO NACIONAL DE COLONIZACAO E REFORMA AGRARIA @ Serviços advocatícios @ [{'codigo': 0, 'descricao': ''}]\n",
      "*  35710565000147 @ J MARIANO & FILHOS LTDA @ Fabricação de artefatos de cerâmica e barro cozido para uso na construção, exceto azulejos e pisos @ [{'codigo': 0, 'descricao': ''}]\n",
      "*  08312069000162 @ LAMINADOS AMAZONIA LTDA @ Serrarias com desdobramento de madeira em bruto @ [{'codigo': 4930202, 'descricao': 'Transporte rodoviário de carga, exceto produtos perigosos e mudanças, intermunicipal, interestadual e internacional'}, {'codigo': 4744002, 'descricao': 'Comércio varejista de madeira e artefatos'}, {'codigo': 1622602, 'descricao': 'Fabricação de esquadrias de madeira e de peças de madeira para instalações industriais e comerciais'}, {'codigo': 1621800, 'descricao': 'Fabricação de madeira laminada e de chapas de madeira compensada, prensada e aglomerada'}, {'codigo': 210107, 'descricao': 'Extração de madeira em florestas plantadas'}, {'codigo': 4671100, 'descricao': 'Comércio atacadista de madeira e produtos derivados'}]\n",
      "*  10667366000172 @ M P TORRES & CIA LTDA @ Serrarias com desdobramento de madeira em bruto @ [{'codigo': 4671100, 'descricao': 'Comércio atacadista de madeira e produtos derivados'}, {'codigo': 4744002, 'descricao': 'Comércio varejista de madeira e artefatos'}, {'codigo': 7732201, 'descricao': 'Aluguel de máquinas e equipamentos para construção sem operador, exceto andaimes'}]\n",
      "*  04655749000128 @ MH MAX INDUSTRIA COMERCIO E EXPORTACAO DE MADEIRAS LTDA @ Serrarias sem desdobramento de madeira em bruto  -Resserragem @ [{'codigo': 4671100, 'descricao': 'Comércio atacadista de madeira e produtos derivados'}, {'codigo': 4744002, 'descricao': 'Comércio varejista de madeira e artefatos'}, {'codigo': 4613300, 'descricao': 'Representantes comerciais e agentes do comércio de madeira, material de construção e ferragens'}, {'codigo': 3101200, 'descricao': 'Fabricação de móveis com predominância de madeira'}]\n",
      "*  07192576000147 @ M. C. COSTA @ Serrarias com desdobramento de madeira em bruto @ [{'codigo': 0, 'descricao': ''}]\n",
      "*  31474018000159 @ M.I. CONSTRUCOES E REFORMAS LTDA @ Construção de edifícios @ [{'codigo': 4299501, 'descricao': 'Construção de instalações esportivas e recreativas'}, {'codigo': 4299599, 'descricao': 'Outras obras de engenharia civil não especificadas anteriormente'}]\n",
      "*  15058563000299 @ MADEIRANIT EMPREENDIMENTOS IMOBILIARIOS LTDA @ Serrarias com desdobramento de madeira em bruto @ [{'codigo': 1610204, 'descricao': 'Serrarias sem desdobramento de madeira em bruto  -Resserragem'}, {'codigo': 4744002, 'descricao': 'Comércio varejista de madeira e artefatos'}, {'codigo': 4671100, 'descricao': 'Comércio atacadista de madeira e produtos derivados'}, {'codigo': 4744099, 'descricao': 'Comércio varejista de materiais de construção em geral'}, {'codigo': 4744001, 'descricao': 'Comércio varejista de ferragens e ferramentas'}, {'codigo': 4679604, 'descricao': 'Comércio atacadista especializado de materiais de construção não especificados anteriormente'}]\n",
      "*  13736865000162 @ MADEIREIRA BOA VISTA INDUSTRIA E COMERCIO LTDA @ Serrarias com desdobramento de madeira em bruto @ [{'codigo': 1610204, 'descricao': 'Serrarias sem desdobramento de madeira em bruto  -Resserragem'}, {'codigo': 1622602, 'descricao': 'Fabricação de esquadrias de madeira e de peças de madeira para instalações industriais e comerciais'}, {'codigo': 3101200, 'descricao': 'Fabricação de móveis com predominância de madeira'}, {'codigo': 4744002, 'descricao': 'Comércio varejista de madeira e artefatos'}, {'codigo': 4754701, 'descricao': 'Comércio varejista de móveis'}, {'codigo': 210107, 'descricao': 'Extração de madeira em florestas plantadas'}, {'codigo': 210108, 'descricao': 'Produção de carvão vegetal - florestas plantadas'}, {'codigo': 220901, 'descricao': 'Extração de madeira em florestas nativas'}, {'codigo': 220902, 'descricao': 'Produção de carvão vegetal - florestas nativas'}, {'codigo': 1622699, 'descricao': 'Fabricação de outros artigos de carpintaria para construção'}, {'codigo': 4671100, 'descricao': 'Comércio atacadista de madeira e produtos derivados'}]\n"
     ]
    },
    {
     "name": "stdout",
     "output_type": "stream",
     "text": [
      "*  06346425000133 @ MADEIREIRA BOM JESUS LTDA @ Serrarias com desdobramento de madeira em bruto @ [{'codigo': 1629301, 'descricao': 'Fabricação de artefatos diversos de madeira, exceto móveis'}, {'codigo': 2229303, 'descricao': 'Fabricação de artefatos de material plástico para uso na construção, exceto tubos e acessórios'}, {'codigo': 4613300, 'descricao': 'Representantes comerciais e agentes do comércio de madeira, material de construção e ferragens'}, {'codigo': 4671100, 'descricao': 'Comércio atacadista de madeira e produtos derivados'}, {'codigo': 4673700, 'descricao': 'Comércio atacadista de material elétrico'}, {'codigo': 4679699, 'descricao': 'Comércio atacadista de materiais de construção em geral'}, {'codigo': 4742300, 'descricao': 'Comércio varejista de material elétrico'}, {'codigo': 4744002, 'descricao': 'Comércio varejista de madeira e artefatos'}, {'codigo': 4744099, 'descricao': 'Comércio varejista de materiais de construção em geral'}]\n",
      "*  09372499000132 @ MADEIREIRA CASTOR LTDA @ Serrarias com desdobramento de madeira em bruto @ [{'codigo': 1610204, 'descricao': 'Serrarias sem desdobramento de madeira em bruto  -Resserragem'}, {'codigo': 4671100, 'descricao': 'Comércio atacadista de madeira e produtos derivados'}, {'codigo': 4744002, 'descricao': 'Comércio varejista de madeira e artefatos'}, {'codigo': 1622602, 'descricao': 'Fabricação de esquadrias de madeira e de peças de madeira para instalações industriais e comerciais'}, {'codigo': 1621800, 'descricao': 'Fabricação de madeira laminada e de chapas de madeira compensada, prensada e aglomerada'}, {'codigo': 210107, 'descricao': 'Extração de madeira em florestas plantadas'}, {'codigo': 210108, 'descricao': 'Produção de carvão vegetal - florestas plantadas'}, {'codigo': 1623400, 'descricao': 'Fabricação de artefatos de tanoaria e de embalagens de madeira'}, {'codigo': 4744099, 'descricao': 'Comércio varejista de materiais de construção em geral'}, {'codigo': 4930202, 'descricao': 'Transporte rodoviário de carga, exceto produtos perigosos e mudanças, intermunicipal, interestadual e internacional'}]\n",
      "*  07220542000119 @ LIMA & RODRIGUES COMERCIO DE MATERIAIS DE CONSTRUCAO LTDA @ Comércio varejista de materiais de construção em geral @ [{'codigo': 0, 'descricao': ''}]\n",
      "*  04645726000132 @ MADEIREIRA SANTO ANTONIO INDUSTRIA E COMERCIO DE MADEIRAS EIRELI @ Serrarias com desdobramento de madeira em bruto @ [{'codigo': 1621800, 'descricao': 'Fabricação de madeira laminada e de chapas de madeira compensada, prensada e aglomerada'}, {'codigo': 220901, 'descricao': 'Extração de madeira em florestas nativas'}, {'codigo': 210107, 'descricao': 'Extração de madeira em florestas plantadas'}, {'codigo': 210108, 'descricao': 'Produção de carvão vegetal - florestas plantadas'}, {'codigo': 220902, 'descricao': 'Produção de carvão vegetal - florestas nativas'}]\n",
      "*  20229835000125 @ MADEIREIRA SAO LUIZ LTDA @ Serrarias sem desdobramento de madeira em bruto  -Resserragem @ [{'codigo': 220901, 'descricao': 'Extração de madeira em florestas nativas'}, {'codigo': 1622602, 'descricao': 'Fabricação de esquadrias de madeira e de peças de madeira para instalações industriais e comerciais'}, {'codigo': 1623400, 'descricao': 'Fabricação de artefatos de tanoaria e de embalagens de madeira'}, {'codigo': 3101200, 'descricao': 'Fabricação de móveis com predominância de madeira'}, {'codigo': 4613300, 'descricao': 'Representantes comerciais e agentes do comércio de madeira, material de construção e ferragens'}, {'codigo': 4671100, 'descricao': 'Comércio atacadista de madeira e produtos derivados'}, {'codigo': 4744002, 'descricao': 'Comércio varejista de madeira e artefatos'}, {'codigo': 4754701, 'descricao': 'Comércio varejista de móveis'}, {'codigo': 5212500, 'descricao': 'Carga e descarga'}, {'codigo': 5250801, 'descricao': 'Comissaria de despachos'}, {'codigo': 5250802, 'descricao': 'Atividades de despachantes aduaneiros'}]\n",
      "*  06253461000152 @ MADEIREIRA SERRANA LTDA @ Serrarias com desdobramento de madeira em bruto @ [{'codigo': 0, 'descricao': ''}]\n",
      "*  11290192000134 @ MADEIREIRA TUCUMA LTDA @ Serrarias com desdobramento de madeira em bruto @ [{'codigo': 1610204, 'descricao': 'Serrarias sem desdobramento de madeira em bruto  -Resserragem'}, {'codigo': 1622602, 'descricao': 'Fabricação de esquadrias de madeira e de peças de madeira para instalações industriais e comerciais'}, {'codigo': 3101200, 'descricao': 'Fabricação de móveis com predominância de madeira'}, {'codigo': 4671100, 'descricao': 'Comércio atacadista de madeira e produtos derivados'}, {'codigo': 4930201, 'descricao': 'Transporte rodoviário de carga, exceto produtos perigosos e mudanças, municipal.'}]\n",
      "*  08668317000102 @ MAURO MULLER @ Serrarias com desdobramento de madeira em bruto @ [{'codigo': 0, 'descricao': ''}]\n",
      "*  20773040000183 @ MERCEARIA DO FAZENDEIRO LIMITADA @ Comércio atacadista de sementes, flores, plantas e gramas @ [{'codigo': 0, 'descricao': ''}]\n",
      "*  05049080000193 @ MICHAEL MOZART GOMES BEZERRA @ Comércio varejista de materiais de construção em geral @ [{'codigo': 4744002, 'descricao': 'Comércio varejista de madeira e artefatos'}, {'codigo': 4744004, 'descricao': 'Comércio varejista de cal, areia, pedra britada, tijolos e telhas'}]\n",
      "*  00865829000157 @ MONTENEGRO MINERACAO LTDA @ Extração de mármore e beneficiamento associado @ [{'codigo': 990403, 'descricao': 'Atividades de apoio à extração de minerais não-metálicos'}]\n",
      "*  07671347000105 @ MORAIS E CAVALCANTE MATERIAIS DE CONSTRUCAO LTDA @ Comércio varejista de ferragens e ferramentas @ [{'codigo': 4744099, 'descricao': 'Comércio varejista de materiais de construção em geral'}, {'codigo': 4744002, 'descricao': 'Comércio varejista de madeira e artefatos'}, {'codigo': 4754701, 'descricao': 'Comércio varejista de móveis'}, {'codigo': 4399103, 'descricao': 'Obras de alvenaria'}, {'codigo': 4399101, 'descricao': 'Administração de obras'}, {'codigo': 4391600, 'descricao': 'Obras de fundações'}, {'codigo': 4330402, 'descricao': 'Instalação de portas, janelas, tetos, divisórias e armários embutidos de qualquer material'}, {'codigo': 4322301, 'descricao': 'Instalações hidráulicas, sanitárias e de gás'}, {'codigo': 4313400, 'descricao': 'Obras de terraplenagem'}, {'codigo': 4311802, 'descricao': 'Preparação de canteiro e limpeza de terreno'}, {'codigo': 4311801, 'descricao': 'Demolição de edifícios e outras estruturas'}, {'codigo': 4330404, 'descricao': 'Serviços de pintura de edifícios em geral'}, {'codigo': 4399105, 'descricao': 'Perfuração e construção de poços de água'}]\n",
      "*  63603625000168 @ MUNICIPIO DE PORTO WALTER @ Administração pública em geral @ [{'codigo': 0, 'descricao': ''}]\n",
      "*  07533946000162 @ MUNICIPIO DE TRAIRI @ Administração pública em geral @ [{'codigo': 0, 'descricao': ''}]\n",
      "*  06351674000117 @ OMEGA SUPER TROCA COMERCIO DE LUBRIFICANTES LTDA @ Comércio varejista de lubrificantes @ [{'codigo': 4520004, 'descricao': 'Serviços de alinhamento e balanceamento de veículos automotores'}, {'codigo': 4520005, 'descricao': 'Serviços de lavagem, lubrificação e polimento de veículos automotores'}, {'codigo': 4530701, 'descricao': 'Comércio por atacado de peças e acessórios novos para veículos automotores'}, {'codigo': 4530702, 'descricao': 'Comércio por atacado de pneumáticos e câmaras-de-ar'}, {'codigo': 4530703, 'descricao': 'Comércio a varejo de peças e acessórios novos para veículos automotores'}, {'codigo': 4530705, 'descricao': 'Comércio a varejo de pneumáticos e câmaras-de-ar'}, {'codigo': 4681805, 'descricao': 'Comércio atacadista de lubrificantes'}]\n",
      "*  33931510000131 @ PARA PIGMENTOS S A @ Beneficiamento de gesso e caulim associado à extração @ [{'codigo': 810005, 'descricao': 'Extração de gesso e caulim'}, {'codigo': 220901, 'descricao': 'Extração de madeira em florestas nativas'}, {'codigo': 4671100, 'descricao': 'Comércio atacadista de madeira e produtos derivados'}, {'codigo': 5231102, 'descricao': 'Atividades do Operador Portuário'}]\n",
      "*  08784387000126 @ POLY CONSTRUCOES E SERVICOS LTDA @ Construção de edifícios @ [{'codigo': 4212000, 'descricao': 'Construção de obras de arte especiais'}, {'codigo': 4221902, 'descricao': 'Construção de estações e redes de distribuição de energia elétrica'}, {'codigo': 4221904, 'descricao': 'Construção de estações e redes de telecomunicações'}, {'codigo': 4222701, 'descricao': 'Construção de redes de abastecimento de água, coleta de esgoto e construções correlatas, exceto obras de irrigação'}, {'codigo': 4213800, 'descricao': 'Obras de urbanização - ruas, praças e calçadas'}, {'codigo': 4313400, 'descricao': 'Obras de terraplenagem'}, {'codigo': 4399105, 'descricao': 'Perfuração e construção de poços de água'}, {'codigo': 4292801, 'descricao': 'Montagem de estruturas metálicas'}, {'codigo': 4312600, 'descricao': 'Perfurações e sondagens'}, {'codigo': 4321500, 'descricao': 'Instalação e manutenção elétrica'}, {'codigo': 4322303, 'descricao': 'Instalações de sistema de prevenção contra incêndio'}, {'codigo': 4329104, 'descricao': 'Montagem e instalação de sistemas e equipamentos de iluminação e sinalização em vias públicas, portos e aeroportos'}, {'codigo': 4329103, 'descricao': 'Instalação, manutenção e reparação de elevadores, escadas e esteiras rolantes'}, {'codigo': 3702900, 'descricao': 'Atividades relacionadas a esgoto, exceto a gestão de redes'}, {'codigo': 3811400, 'descricao': 'Coleta de resíduos não-perigosos'}, {'codigo': 4110700, 'descricao': 'Incorporação de empreendimentos imobiliários'}, {'codigo': 7820500, 'descricao': 'Locação de mão-de-obra temporária'}, {'codigo': 7711000, 'descricao': 'Locação de automóveis sem condutor'}]\n"
     ]
    },
    {
     "name": "stdout",
     "output_type": "stream",
     "text": [
      "*  03124463000153 @ PORTO RECICLAGEM ANIMAL LTDA @ Fabricação de alimentos para animais @ [{'codigo': 1012101, 'descricao': 'Abate de aves'}, {'codigo': 1012103, 'descricao': 'Frigorífico - abate de suínos'}, {'codigo': 6810202, 'descricao': 'Aluguel de imóveis próprios'}, {'codigo': 6821802, 'descricao': 'Corretagem no aluguel de imóveis'}]\n",
      "*  27167477000112 @ MUNICIPIO DE SAO MATEUS @ Administração pública em geral @ [{'codigo': 0, 'descricao': ''}]\n",
      "*  10110989000140 @ MUNICIPIO DE BARREIROS @ Administração pública em geral @ [{'codigo': 0, 'descricao': ''}]\n",
      "*  06332541000101 @ R & I INDUSTRIA E COMERCIO DE MADEIRAS LTDA @ Comércio varejista de madeira e artefatos @ [{'codigo': 210106, 'descricao': 'Cultivo de mudas em viveiros florestais'}, {'codigo': 220901, 'descricao': 'Extração de madeira em florestas nativas'}, {'codigo': 220902, 'descricao': 'Produção de carvão vegetal - florestas nativas'}, {'codigo': 1610204, 'descricao': 'Serrarias sem desdobramento de madeira em bruto  -Resserragem'}, {'codigo': 1622602, 'descricao': 'Fabricação de esquadrias de madeira e de peças de madeira para instalações industriais e comerciais'}, {'codigo': 4120400, 'descricao': 'Construção de edifícios'}, {'codigo': 4213800, 'descricao': 'Obras de urbanização - ruas, praças e calçadas'}, {'codigo': 4222701, 'descricao': 'Construção de redes de abastecimento de água, coleta de esgoto e construções correlatas, exceto obras de irrigação'}, {'codigo': 4313400, 'descricao': 'Obras de terraplenagem'}, {'codigo': 4330404, 'descricao': 'Serviços de pintura de edifícios em geral'}, {'codigo': 4399103, 'descricao': 'Obras de alvenaria'}, {'codigo': 4671100, 'descricao': 'Comércio atacadista de madeira e produtos derivados'}, {'codigo': 4930202, 'descricao': 'Transporte rodoviário de carga, exceto produtos perigosos e mudanças, intermunicipal, interestadual e internacional'}, {'codigo': 5211799, 'descricao': 'Depósitos de mercadorias para terceiros, exceto armazéns gerais e guarda-móveis'}, {'codigo': 7111100, 'descricao': 'Serviços de arquitetura'}, {'codigo': 7112000, 'descricao': 'Serviços de engenharia'}, {'codigo': 7731400, 'descricao': 'Aluguel de máquinas e equipamentos agrícolas sem operador'}, {'codigo': 7732201, 'descricao': 'Aluguel de máquinas e equipamentos para construção sem operador, exceto andaimes'}, {'codigo': 8130300, 'descricao': 'Atividades paisagísticas'}]\n",
      "*  11472006000188 @ REGINALDO FERREIRA DOS SANTOS @ Comércio varejista de materiais de construção em geral @ [{'codigo': 0, 'descricao': ''}]\n",
      "*  10867755000141 @ RIO & MAR PRODUTOS DA PESCA LTDA @ Fabricação de conservas de peixes, crustáceos e moluscos @ [{'codigo': 4634603, 'descricao': 'Comércio atacadista de pescados e frutos do mar'}, {'codigo': 4639701, 'descricao': 'Comércio atacadista de produtos alimentícios em geral'}, {'codigo': 4930202, 'descricao': 'Transporte rodoviário de carga, exceto produtos perigosos e mudanças, intermunicipal, interestadual e internacional'}, {'codigo': 8299707, 'descricao': 'Salas de acesso à internet'}]\n",
      "*  12072200000139 @ RODRIGO ELIAS DE CARVALHO @ Comércio varejista de madeira e artefatos @ [{'codigo': 4744099, 'descricao': 'Comércio varejista de materiais de construção em geral'}]\n",
      "*  04330304000178 @ SC TRANSPORTES LTDA @ Transporte por navegação interior de carga, intermunicipal, interestadual e internacional, exceto travessia @ [{'codigo': 4930202, 'descricao': 'Transporte rodoviário de carga, exceto produtos perigosos e mudanças, intermunicipal, interestadual e internacional'}, {'codigo': 4930203, 'descricao': 'Transporte rodoviário de produtos perigosos'}, {'codigo': 5011401, 'descricao': 'Transporte marítimo de cabotagem - Carga'}, {'codigo': 5030101, 'descricao': 'Navegação de apoio marítimo'}, {'codigo': 5030102, 'descricao': 'Navegação de apoio portuário'}, {'codigo': 5099899, 'descricao': 'Outros transportes aquaviários não especificados anteriormente'}, {'codigo': 5231102, 'descricao': 'Atividades do Operador Portuário'}, {'codigo': 5250805, 'descricao': 'Operador de transporte multimodal - OTM'}, {'codigo': 5590699, 'descricao': 'Outros alojamentos não especificados anteriormente'}, {'codigo': 6190699, 'descricao': 'Outras atividades de telecomunicações não especificadas anteriormente'}, {'codigo': 7719501, 'descricao': 'Locação de embarcações sem tripulação, exceto para fins recreativos'}, {'codigo': 7732201, 'descricao': 'Aluguel de máquinas e equipamentos para construção sem operador, exceto andaimes'}]\n",
      "*  69557304000150 @ SERRARIA VERDES MARES EIRELI @ Serrarias com desdobramento de madeira em bruto @ [{'codigo': 0, 'descricao': ''}]\n",
      "*  78296696000132 @ SERVICO AUTONOMO DE AGUA E ESGOTO @ Captação, tratamento e distribuição de água @ [{'codigo': 0, 'descricao': ''}]\n",
      "*  53233409000114 @ SUIL PRESENTES LTDA @ Comércio varejista de cosméticos, produtos de perfumaria e de higiene pessoal @ [{'codigo': 5812301, 'descricao': 'Edição de jornais diários'}, {'codigo': 5813100, 'descricao': 'Edição de revistas'}, {'codigo': 6619399, 'descricao': 'Outras atividades auxiliares dos serviços financeiros não especificadas anteriormente'}]\n",
      "*  53233409000114 @ SUIL PRESENTES LTDA @ Comércio varejista de cosméticos, produtos de perfumaria e de higiene pessoal @ [{'codigo': 5812301, 'descricao': 'Edição de jornais diários'}, {'codigo': 5813100, 'descricao': 'Edição de revistas'}, {'codigo': 6619399, 'descricao': 'Outras atividades auxiliares dos serviços financeiros não especificadas anteriormente'}]\n",
      "*  06248349000123 @ TRANSPORTADORA ASSOCIADA DE GAS S.A. - TAG @ Transporte dutoviário @ [{'codigo': 0, 'descricao': ''}]\n",
      "*  01480299000434 @ TRANSTRIL COMERCIO E EXPORTACAO LTDA @ Produção de ferro-gusa @ [{'codigo': 0, 'descricao': ''}]\n",
      "*  08775729000141 @ UBS COTTON DESLINTAMENTO LTDA @ Preparação e fiação de fibras de algodão @ [{'codigo': 5212500, 'descricao': 'Carga e descarga'}, {'codigo': 4623103, 'descricao': 'Comércio atacadista de algodão'}, {'codigo': 4623108, 'descricao': 'Comércio atacadista de matérias-primas agrícolas com atividade de fracionamento e acondicionamento associada'}, {'codigo': 4789099, 'descricao': 'Comércio varejista de outros produtos não especificados anteriormente'}, {'codigo': 112101, 'descricao': 'Cultivo de algodão herbáceo'}, {'codigo': 119999, 'descricao': 'Cultivo de outras plantas de lavoura temporária não especificadas anteriormente'}]\n",
      "*  09626030000182 @ V. B. VENDRAMIN EIRELI @ Comércio varejista de materiais de construção em geral @ [{'codigo': 1610203, 'descricao': 'Serrarias com desdobramento de madeira em bruto'}, {'codigo': 1610204, 'descricao': 'Serrarias sem desdobramento de madeira em bruto  -Resserragem'}, {'codigo': 1621800, 'descricao': 'Fabricação de madeira laminada e de chapas de madeira compensada, prensada e aglomerada'}, {'codigo': 4619200, 'descricao': 'Representantes comerciais e agentes do comércio de mercadorias em geral não especializado'}, {'codigo': 4742300, 'descricao': 'Comércio varejista de material elétrico'}, {'codigo': 4744001, 'descricao': 'Comércio varejista de ferragens e ferramentas'}, {'codigo': 4744002, 'descricao': 'Comércio varejista de madeira e artefatos'}]\n",
      "*  09359296000106 @ VERDE  BRASIL COMERCIO E INDUSTRIA DE MADEIRAS EIRELI @ Serrarias com desdobramento de madeira em bruto @ [{'codigo': 1610204, 'descricao': 'Serrarias sem desdobramento de madeira em bruto  -Resserragem'}, {'codigo': 4744002, 'descricao': 'Comércio varejista de madeira e artefatos'}, {'codigo': 220901, 'descricao': 'Extração de madeira em florestas nativas'}, {'codigo': 1629301, 'descricao': 'Fabricação de artefatos diversos de madeira, exceto móveis'}, {'codigo': 4671100, 'descricao': 'Comércio atacadista de madeira e produtos derivados'}]\n",
      "*  05310563000108 @ POSTO BARRA 1 LTDA @ Comércio varejista de combustíveis para veículos automotores @ [{'codigo': 4732600, 'descricao': 'Comércio varejista de lubrificantes'}]\n",
      "*  35820448001965 @ WHITE MARTINS GASES INDUSTRIAIS LTDA @ Fabricação de gases industriais @ [{'codigo': 2029100, 'descricao': 'Fabricação de produtos químicos orgânicos não especificados anteriormente'}, {'codigo': 2099199, 'descricao': 'Fabricação de outros produtos químicos não especificados anteriormente'}, {'codigo': 3314710, 'descricao': 'Manutenção e reparação de máquinas e equipamentos para uso geral não especificados anteriormente'}, {'codigo': 3319800, 'descricao': 'Manutenção e reparação de equipamentos e produtos não especificados anteriormente'}, {'codigo': 3321000, 'descricao': 'Instalação de máquinas e equipamentos industriais'}, {'codigo': 4292801, 'descricao': 'Montagem de estruturas metálicas'}, {'codigo': 4645101, 'descricao': 'Comércio atacadista de instrumentos e materiais para uso médico, cirúrgico, hospitalar e de laboratórios'}, {'codigo': 4663000, 'descricao': 'Comércio atacadista de Máquinas e equipamentos para uso industrial; partes e peças'}, {'codigo': 7120100, 'descricao': 'Testes e análises técnicas'}, {'codigo': 7210000, 'descricao': 'Pesquisa e desenvolvimento experimental em ciências físicas e naturais'}, {'codigo': 8020001, 'descricao': 'Atividades de monitoramento de sistemas de segurança eletrônico'}, {'codigo': 8640299, 'descricao': 'Atividades de serviços de complementação diagnóstica e terapêutica não especificadas anteriormente'}]\n"
     ]
    },
    {
     "name": "stdout",
     "output_type": "stream",
     "text": [
      "*  02472634000172 @ ORQUIDARIO PRIMAVERA LTDA @ Cultivo de flores e plantas ornamentais @ [{'codigo': 141501, 'descricao': 'Produção de sementes certificadas, exceto de forrageiras para pasto'}, {'codigo': 142300, 'descricao': 'Produção de mudas e outras formas de propagação vegetal, certificadas'}]\n",
      "*  17743707000190 @ A. KORB INDUSTRIA E COMERCIO DE MADEIRAS LTDA @ Serrarias com desdobramento de madeira em bruto @ [{'codigo': 4671100, 'descricao': 'Comércio atacadista de madeira e produtos derivados'}, {'codigo': 4744002, 'descricao': 'Comércio varejista de madeira e artefatos'}]\n",
      "*  03792188000227 @ EDVALDO FERREIRA DE MELO & CIA. LTDA @ Extração de madeira em florestas plantadas @ [{'codigo': 210108, 'descricao': 'Produção de carvão vegetal - florestas plantadas'}, {'codigo': 220901, 'descricao': 'Extração de madeira em florestas nativas'}, {'codigo': 220902, 'descricao': 'Produção de carvão vegetal - florestas nativas'}]\n",
      "*  08818689000178 @ EVANDRO RAASCH @ Fabricação de artefatos de tanoaria e de embalagens de madeira @ [{'codigo': 0, 'descricao': ''}]\n",
      "*  01862571000106 @ MADEIRAS VANZELLA LTDA @ Fabricação de madeira laminada e de chapas de madeira compensada, prensada e aglomerada @ [{'codigo': 0, 'descricao': ''}]\n",
      "*  27768505000157 @ JVF EMPREENDIMENTOS AGROPECUARIOS LTDA @ Cultivo de eucalipto @ [{'codigo': 151201, 'descricao': 'Criação de bovinos para corte'}, {'codigo': 1610204, 'descricao': 'Serrarias sem desdobramento de madeira em bruto  -Resserragem'}]\n",
      "*  16482746000119 @ ETT EMPRESA DE EXTRACAO, TRANSPORTE E TERRAPLANAGEM LTDA @ Obras de terraplenagem @ [{'codigo': 220901, 'descricao': 'Extração de madeira em florestas nativas'}, {'codigo': 161003, 'descricao': 'Serviço de preparação de terreno, cultivo e colheita'}, {'codigo': 210107, 'descricao': 'Extração de madeira em florestas plantadas'}, {'codigo': 210105, 'descricao': 'Cultivo de espécies madeireiras, exceto eucalipto, acácia-negra, pinus e teca'}, {'codigo': 210106, 'descricao': 'Cultivo de mudas em viveiros florestais'}, {'codigo': 4923002, 'descricao': 'Serviço de transporte de passageiros - locação de automóveis com motorista'}, {'codigo': 4930201, 'descricao': 'Transporte rodoviário de carga, exceto produtos perigosos e mudanças, municipal.'}, {'codigo': 4930202, 'descricao': 'Transporte rodoviário de carga, exceto produtos perigosos e mudanças, intermunicipal, interestadual e internacional'}, {'codigo': 4120400, 'descricao': 'Construção de edifícios'}, {'codigo': 4391600, 'descricao': 'Obras de fundações'}, {'codigo': 4399103, 'descricao': 'Obras de alvenaria'}, {'codigo': 4319300, 'descricao': 'Serviços de preparação do terreno não especificados anteriormente'}, {'codigo': 7731400, 'descricao': 'Aluguel de máquinas e equipamentos agrícolas sem operador'}, {'codigo': 7732201, 'descricao': 'Aluguel de máquinas e equipamentos para construção sem operador, exceto andaimes'}, {'codigo': 7739001, 'descricao': 'Aluguel de máquinas e equipamentos para extração de minérios e petróleo, sem operador'}, {'codigo': 7739099, 'descricao': 'Aluguel de outras máquinas e equipamentos comerciais e industriais não especificados anteriormente, sem operador'}]\n"
     ]
    }
   ],
   "source": [
    "for i in list(df['API']):\n",
    "    resposta = requests.get(i)\n",
    "    todo = json.loads(resposta.content)\n",
    "    print(\"* \",\n",
    "          todo['cnpj'],\n",
    "          \"@\",\n",
    "          todo['razao_social'],\n",
    "          \"@\" , \n",
    "          todo['cnae_fiscal_descricao'],\n",
    "          \"@\" ,\n",
    "          todo['cnaes_secundarios'])"
   ]
  },
  {
   "cell_type": "code",
   "execution_count": 8,
   "metadata": {},
   "outputs": [],
   "source": [
    "def buscar_dados_id(i):\n",
    "    request = requests.get(i)\n",
    "    todo = json.loads(request.content)\n",
    "    print(\"a empresa de razão social \" + todo['razao_social'] +\" tem como cnae fiscal \" + todo['cnae_fiscal_descricao'] + \" e atividades secundárias \" + todo['cnaes_secundarios'])"
   ]
  },
  {
   "cell_type": "code",
   "execution_count": 22,
   "metadata": {},
   "outputs": [],
   "source": [
    "def buscar_dados_id(i):\n",
    "    request = requests.get(i)\n",
    "    todo = json.loads(request.content)\n",
    "    print(\"a empresa de razão social \" + todo['razao_social'] +\" tem como cnae fiscal \" + todo['cnae_fiscal_descricao'] + \" e atividades secundárias \" + todo['cnaes_secundarios'])"
   ]
  },
  {
   "cell_type": "code",
   "execution_count": null,
   "metadata": {},
   "outputs": [],
   "source": []
  }
 ],
 "metadata": {
  "colab": {
   "name": "qsa.ipynb",
   "provenance": []
  },
  "kernelspec": {
   "display_name": "Python 3 (ipykernel)",
   "language": "python",
   "name": "python3"
  },
  "language_info": {
   "codemirror_mode": {
    "name": "ipython",
    "version": 3
   },
   "file_extension": ".py",
   "mimetype": "text/x-python",
   "name": "python",
   "nbconvert_exporter": "python",
   "pygments_lexer": "ipython3",
   "version": "3.9.12"
  }
 },
 "nbformat": 4,
 "nbformat_minor": 1
}
