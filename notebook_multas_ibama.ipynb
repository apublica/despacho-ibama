{
  "cells": [
    {
      "cell_type": "code",
      "execution_count": 1,
      "metadata": {
        "id": "B7QTKbhTbd-2"
      },
      "outputs": [],
      "source": [
        "import pandas as pd\n",
        "import numpy as np\n",
        "pd.set_option('display.max_columns', None) #mostrar todas as colunas\n",
        "import ssl #para lidar com o certificado de segurança\n",
        "ssl._create_default_https_context = ssl._create_unverified_context"
      ]
    },
    {
      "cell_type": "code",
      "execution_count": null,
      "metadata": {
        "id": "jZG2Bt5MpGmv"
      },
      "outputs": [],
      "source": [
        "#Carregando os df (dataframe) por UF\n",
        "AC = pd.read_csv(r\"http://dadosabertos.ibama.gov.br/dados/SICAFI/AC/Quantidade/multasDistribuidasBensTutelados.csv\", sep=\";\", encoding=\"utf-8\", error_bad_lines=False)\n",
        "AL = pd.read_csv(r\"http://dadosabertos.ibama.gov.br/dados/SICAFI/AL/Quantidade/multasDistribuidasBensTutelados.csv\", sep=\";\", encoding=\"utf-8\", error_bad_lines=False)\n",
        "AM = pd.read_csv(r\"http://dadosabertos.ibama.gov.br/dados/SICAFI/AM/Quantidade/multasDistribuidasBensTutelados.csv\", sep=\";\", encoding=\"utf-8\", error_bad_lines=False)\n",
        "AP = pd.read_csv(r\"http://dadosabertos.ibama.gov.br/dados/SICAFI/AP/Quantidade/multasDistribuidasBensTutelados.csv\", sep=\";\", encoding=\"utf-8\", error_bad_lines=False)\n",
        "BA = pd.read_csv(r\"http://dadosabertos.ibama.gov.br/dados/SICAFI/BA/Quantidade/multasDistribuidasBensTutelados.csv\", sep=\";\", encoding=\"utf-8\", error_bad_lines=False)\n",
        "CE = pd.read_csv(r\"http://dadosabertos.ibama.gov.br/dados/SICAFI/CE/Quantidade/multasDistribuidasBensTutelados.csv\", sep=\";\", encoding=\"utf-8\", error_bad_lines=False)\n",
        "DF = pd.read_csv(r\"http://dadosabertos.ibama.gov.br/dados/SICAFI/DF/Quantidade/multasDistribuidasBensTutelados.csv\", sep=\";\", encoding=\"utf-8\", error_bad_lines=False)\n",
        "ES = pd.read_csv(r\"http://dadosabertos.ibama.gov.br/dados/SICAFI/ES/Quantidade/multasDistribuidasBensTutelados.csv\", sep=\";\", encoding=\"utf-8\", error_bad_lines=False)\n",
        "GO = pd.read_csv(r\"http://dadosabertos.ibama.gov.br/dados/SICAFI/GO/Quantidade/multasDistribuidasBensTutelados.csv\", sep=\";\", encoding=\"utf-8\", error_bad_lines=False)\n",
        "MA = pd.read_csv(r\"http://dadosabertos.ibama.gov.br/dados/SICAFI/MA/Quantidade/multasDistribuidasBensTutelados.csv\", sep=\";\", encoding=\"utf-8\", error_bad_lines=False)\n",
        "MG = pd.read_csv(r\"http://dadosabertos.ibama.gov.br/dados/SICAFI/MG/Quantidade/multasDistribuidasBensTutelados.csv\", sep=\";\", encoding=\"utf-8\", error_bad_lines=False)\n",
        "MS = pd.read_csv(r\"http://dadosabertos.ibama.gov.br/dados/SICAFI/MS/Quantidade/multasDistribuidasBensTutelados.csv\", sep=\";\", encoding=\"utf-8\", error_bad_lines=False)\n",
        "MT = pd.read_csv(r\"http://dadosabertos.ibama.gov.br/dados/SICAFI/MT/Quantidade/multasDistribuidasBensTutelados.csv\", sep=\";\", encoding=\"utf-8\", error_bad_lines=False)\n",
        "PA = pd.read_csv(r\"http://dadosabertos.ibama.gov.br/dados/SICAFI/PA/Quantidade/multasDistribuidasBensTutelados.csv\", sep=\";\", encoding=\"utf-8\", error_bad_lines=False)\n",
        "PB = pd.read_csv(r\"http://dadosabertos.ibama.gov.br/dados/SICAFI/PB/Quantidade/multasDistribuidasBensTutelados.csv\", sep=\";\", encoding=\"utf-8\", error_bad_lines=False)\n",
        "PE = pd.read_csv(r\"http://dadosabertos.ibama.gov.br/dados/SICAFI/PE/Quantidade/multasDistribuidasBensTutelados.csv\", sep=\";\", encoding=\"utf-8\", error_bad_lines=False)\n",
        "PI = pd.read_csv(r\"http://dadosabertos.ibama.gov.br/dados/SICAFI/PI/Quantidade/multasDistribuidasBensTutelados.csv\", sep=\";\", encoding=\"utf-8\", error_bad_lines=False)\n",
        "PR = pd.read_csv(r\"http://dadosabertos.ibama.gov.br/dados/SICAFI/PR/Quantidade/multasDistribuidasBensTutelados.csv\", sep=\";\", encoding=\"utf-8\", error_bad_lines=False)\n",
        "RJ = pd.read_csv(r\"http://dadosabertos.ibama.gov.br/dados/SICAFI/RJ/Quantidade/multasDistribuidasBensTutelados.csv\", sep=\";\", encoding=\"utf-8\", error_bad_lines=False)\n",
        "RN = pd.read_csv(r\"http://dadosabertos.ibama.gov.br/dados/SICAFI/RN/Quantidade/multasDistribuidasBensTutelados.csv\", sep=\";\", encoding=\"utf-8\", error_bad_lines=False)\n",
        "RO = pd.read_csv(r\"http://dadosabertos.ibama.gov.br/dados/SICAFI/RO/Quantidade/multasDistribuidasBensTutelados.csv\", sep=\";\", encoding=\"utf-8\", error_bad_lines=False)\n",
        "RR = pd.read_csv(r\"http://dadosabertos.ibama.gov.br/dados/SICAFI/RR/Quantidade/multasDistribuidasBensTutelados.csv\", sep=\";\", encoding=\"utf-8\", error_bad_lines=False)\n",
        "RS = pd.read_csv(r\"http://dadosabertos.ibama.gov.br/dados/SICAFI/RS/Quantidade/multasDistribuidasBensTutelados.csv\", sep=\";\", encoding=\"utf-8\", error_bad_lines=False)\n",
        "SC = pd.read_csv(r\"http://dadosabertos.ibama.gov.br/dados/SICAFI/SC/Quantidade/multasDistribuidasBensTutelados.csv\", sep=\";\", encoding=\"utf-8\", error_bad_lines=False)\n",
        "SE = pd.read_csv(r\"http://dadosabertos.ibama.gov.br/dados/SICAFI/SE/Quantidade/multasDistribuidasBensTutelados.csv\", sep=\";\", encoding=\"utf-8\", error_bad_lines=False)\n",
        "SP = pd.read_csv(r\"http://dadosabertos.ibama.gov.br/dados/SICAFI/SP/Quantidade/multasDistribuidasBensTutelados.csv\", sep=\";\", encoding=\"utf-8\", error_bad_lines=False)\n",
        "TO = pd.read_csv(r\"http://dadosabertos.ibama.gov.br/dados/SICAFI/TO/Quantidade/multasDistribuidasBensTutelados.csv\", sep=\";\", encoding=\"utf-8\", error_bad_lines=False)"
      ]
    },
    {
      "cell_type": "code",
      "execution_count": 9,
      "metadata": {
        "id": "MyYc2ujbqf4M"
      },
      "outputs": [],
      "source": [
        "multas_brasil = pd.concat([AC,AL,AM,AP,BA,CE,DF,ES,GO,MA,MT,MS,MG,PA,PB,PE,PI,PR,RS,RJ,RR,RN,RO,SP,TO,SC,SE]) # Unindo todas as bases de UFs\n",
        "dados =  multas_brasil.loc[multas_brasil['Situação Débito'] == 'AI notificado, via edital, p/alegações finais']"
      ]
    },
    {
      "cell_type": "code",
      "execution_count": 10,
      "metadata": {
        "id": "pfkz45rfsYee"
      },
      "outputs": [],
      "source": [
        "#Salvando em CSV\n",
        "BRASIL.to_csv('multas_atualizado_12_06.csv')"
      ]
    }
  ],
  "metadata": {
    "colab": {
      "name": "notebook_multas_ibama.ipynb",
      "provenance": []
    },
    "kernelspec": {
      "display_name": "Python 3",
      "language": "python",
      "name": "python3"
    },
    "language_info": {
      "codemirror_mode": {
        "name": "ipython",
        "version": 3
      },
      "file_extension": ".py",
      "mimetype": "text/x-python",
      "name": "python",
      "nbconvert_exporter": "python",
      "pygments_lexer": "ipython3",
      "version": "3.8.8"
    }
  },
  "nbformat": 4,
  "nbformat_minor": 0
}
